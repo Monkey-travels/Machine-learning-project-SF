{
 "cells": [
  {
   "cell_type": "code",
   "execution_count": 1,
   "metadata": {},
   "outputs": [],
   "source": [
    "%matplotlib notebook"
   ]
  },
  {
   "cell_type": "code",
   "execution_count": 2,
   "metadata": {},
   "outputs": [],
   "source": [
    "import os\n",
    "import pandas as pd\n",
    "import numpy as np\n",
    "from scipy import stats\n"
   ]
  },
  {
   "cell_type": "code",
   "execution_count": 3,
   "metadata": {},
   "outputs": [],
   "source": [
    "%matplotlib inline\n",
    "import seaborn as sn\n",
    "import matplotlib.pyplot as plt"
   ]
  },
  {
   "cell_type": "code",
   "execution_count": 4,
   "metadata": {},
   "outputs": [
    {
     "data": {
      "text/html": [
       "<div>\n",
       "<style scoped>\n",
       "    .dataframe tbody tr th:only-of-type {\n",
       "        vertical-align: middle;\n",
       "    }\n",
       "\n",
       "    .dataframe tbody tr th {\n",
       "        vertical-align: top;\n",
       "    }\n",
       "\n",
       "    .dataframe thead th {\n",
       "        text-align: right;\n",
       "    }\n",
       "</style>\n",
       "<table border=\"1\" class=\"dataframe\">\n",
       "  <thead>\n",
       "    <tr style=\"text-align: right;\">\n",
       "      <th></th>\n",
       "      <th>incident_category</th>\n",
       "      <th>incident_day_of_week</th>\n",
       "      <th>incident_month</th>\n",
       "      <th>incident_time</th>\n",
       "      <th>police_district</th>\n",
       "      <th>longitude</th>\n",
       "      <th>latitude</th>\n",
       "    </tr>\n",
       "  </thead>\n",
       "  <tbody>\n",
       "    <tr>\n",
       "      <td>0</td>\n",
       "      <td>0</td>\n",
       "      <td>5</td>\n",
       "      <td>6</td>\n",
       "      <td>1</td>\n",
       "      <td>0</td>\n",
       "      <td>-122.396010</td>\n",
       "      <td>37.747262</td>\n",
       "    </tr>\n",
       "    <tr>\n",
       "      <td>1</td>\n",
       "      <td>0</td>\n",
       "      <td>4</td>\n",
       "      <td>9</td>\n",
       "      <td>22</td>\n",
       "      <td>0</td>\n",
       "      <td>-122.385000</td>\n",
       "      <td>37.755520</td>\n",
       "    </tr>\n",
       "    <tr>\n",
       "      <td>2</td>\n",
       "      <td>0</td>\n",
       "      <td>2</td>\n",
       "      <td>9</td>\n",
       "      <td>21</td>\n",
       "      <td>0</td>\n",
       "      <td>-122.394589</td>\n",
       "      <td>37.752427</td>\n",
       "    </tr>\n",
       "    <tr>\n",
       "      <td>3</td>\n",
       "      <td>0</td>\n",
       "      <td>4</td>\n",
       "      <td>3</td>\n",
       "      <td>17</td>\n",
       "      <td>8</td>\n",
       "      <td>-122.412447</td>\n",
       "      <td>37.775634</td>\n",
       "    </tr>\n",
       "    <tr>\n",
       "      <td>4</td>\n",
       "      <td>0</td>\n",
       "      <td>4</td>\n",
       "      <td>4</td>\n",
       "      <td>22</td>\n",
       "      <td>2</td>\n",
       "      <td>-122.417108</td>\n",
       "      <td>37.712256</td>\n",
       "    </tr>\n",
       "  </tbody>\n",
       "</table>\n",
       "</div>"
      ],
      "text/plain": [
       "   incident_category  incident_day_of_week  incident_month  incident_time  \\\n",
       "0                  0                     5               6              1   \n",
       "1                  0                     4               9             22   \n",
       "2                  0                     2               9             21   \n",
       "3                  0                     4               3             17   \n",
       "4                  0                     4               4             22   \n",
       "\n",
       "   police_district   longitude   latitude  \n",
       "0                0 -122.396010  37.747262  \n",
       "1                0 -122.385000  37.755520  \n",
       "2                0 -122.394589  37.752427  \n",
       "3                8 -122.412447  37.775634  \n",
       "4                2 -122.417108  37.712256  "
      ]
     },
     "execution_count": 4,
     "metadata": {},
     "output_type": "execute_result"
    }
   ],
   "source": [
    "#Open the second encoded sf police data\n",
    "third_sf_police = \"./data/second_encoded_sf_police_data.csv\"\n",
    "\n",
    "third_encoded_sf_police_df = pd.read_csv(third_sf_police)\n",
    "third_encoded_sf_police_df.head()\n",
    "\n",
    "#data labeling\n",
    "\n",
    "# incident_category: theft(1), vandalism(2), vehicle-related-crime(3), assault(0)\n",
    "# incident_day_of_week: Mon(1), Tue(5), Wed(6), Thu(4), Fri(0), Sat(2), Sun(3)\n",
    "# police_district: southern(8), northern(4), central(1), mission(3), bayview(0), ingleside(2), \n",
    "# taraval(9), richmond(7), tenderloin(10), park(6), out of sf(5)\n"
   ]
  },
  {
   "cell_type": "code",
   "execution_count": 5,
   "metadata": {},
   "outputs": [
    {
     "data": {
      "text/plain": [
       "(761482, 7)"
      ]
     },
     "execution_count": 5,
     "metadata": {},
     "output_type": "execute_result"
    }
   ],
   "source": [
    "third_encoded_sf_police_df.shape"
   ]
  },
  {
   "cell_type": "code",
   "execution_count": 6,
   "metadata": {},
   "outputs": [
    {
     "data": {
      "text/plain": [
       "1    267143\n",
       "0    209357\n",
       "3    149786\n",
       "2    135196\n",
       "Name: incident_category, dtype: int64"
      ]
     },
     "execution_count": 6,
     "metadata": {},
     "output_type": "execute_result"
    }
   ],
   "source": [
    "third_encoded_sf_police_df['incident_category'].value_counts()"
   ]
  },
  {
   "cell_type": "code",
   "execution_count": 8,
   "metadata": {},
   "outputs": [
    {
     "data": {
      "text/plain": [
       "incident_category         int64\n",
       "incident_day_of_week      int64\n",
       "incident_month            int64\n",
       "incident_time             int64\n",
       "police_district           int64\n",
       "longitude               float64\n",
       "latitude                float64\n",
       "dtype: object"
      ]
     },
     "execution_count": 8,
     "metadata": {},
     "output_type": "execute_result"
    }
   ],
   "source": [
    "third_encoded_sf_police_df.dtypes"
   ]
  },
  {
   "cell_type": "code",
   "execution_count": 10,
   "metadata": {},
   "outputs": [
    {
     "data": {
      "text/html": [
       "<div>\n",
       "<style scoped>\n",
       "    .dataframe tbody tr th:only-of-type {\n",
       "        vertical-align: middle;\n",
       "    }\n",
       "\n",
       "    .dataframe tbody tr th {\n",
       "        vertical-align: top;\n",
       "    }\n",
       "\n",
       "    .dataframe thead th {\n",
       "        text-align: right;\n",
       "    }\n",
       "</style>\n",
       "<table border=\"1\" class=\"dataframe\">\n",
       "  <thead>\n",
       "    <tr style=\"text-align: right;\">\n",
       "      <th></th>\n",
       "      <th>incident_category</th>\n",
       "      <th>incident_day_of_week</th>\n",
       "      <th>incident_month</th>\n",
       "      <th>incident_time</th>\n",
       "      <th>police_district</th>\n",
       "      <th>longitude</th>\n",
       "      <th>latitude</th>\n",
       "    </tr>\n",
       "  </thead>\n",
       "  <tbody>\n",
       "    <tr>\n",
       "      <td>0</td>\n",
       "      <td>0</td>\n",
       "      <td>5</td>\n",
       "      <td>6</td>\n",
       "      <td>1</td>\n",
       "      <td>0</td>\n",
       "      <td>-122.396010</td>\n",
       "      <td>37.747262</td>\n",
       "    </tr>\n",
       "    <tr>\n",
       "      <td>1</td>\n",
       "      <td>0</td>\n",
       "      <td>4</td>\n",
       "      <td>9</td>\n",
       "      <td>22</td>\n",
       "      <td>0</td>\n",
       "      <td>-122.385000</td>\n",
       "      <td>37.755520</td>\n",
       "    </tr>\n",
       "    <tr>\n",
       "      <td>2</td>\n",
       "      <td>0</td>\n",
       "      <td>2</td>\n",
       "      <td>9</td>\n",
       "      <td>21</td>\n",
       "      <td>0</td>\n",
       "      <td>-122.394589</td>\n",
       "      <td>37.752427</td>\n",
       "    </tr>\n",
       "    <tr>\n",
       "      <td>3</td>\n",
       "      <td>0</td>\n",
       "      <td>4</td>\n",
       "      <td>3</td>\n",
       "      <td>17</td>\n",
       "      <td>8</td>\n",
       "      <td>-122.412447</td>\n",
       "      <td>37.775634</td>\n",
       "    </tr>\n",
       "    <tr>\n",
       "      <td>4</td>\n",
       "      <td>0</td>\n",
       "      <td>4</td>\n",
       "      <td>4</td>\n",
       "      <td>22</td>\n",
       "      <td>2</td>\n",
       "      <td>-122.417108</td>\n",
       "      <td>37.712256</td>\n",
       "    </tr>\n",
       "  </tbody>\n",
       "</table>\n",
       "</div>"
      ],
      "text/plain": [
       "   incident_category  incident_day_of_week  incident_month  incident_time  \\\n",
       "0                  0                     5               6              1   \n",
       "1                  0                     4               9             22   \n",
       "2                  0                     2               9             21   \n",
       "3                  0                     4               3             17   \n",
       "4                  0                     4               4             22   \n",
       "\n",
       "   police_district   longitude   latitude  \n",
       "0                0 -122.396010  37.747262  \n",
       "1                0 -122.385000  37.755520  \n",
       "2                0 -122.394589  37.752427  \n",
       "3                8 -122.412447  37.775634  \n",
       "4                2 -122.417108  37.712256  "
      ]
     },
     "execution_count": 10,
     "metadata": {},
     "output_type": "execute_result"
    }
   ],
   "source": [
    "#drop incident_category = 1 (theft)\n",
    "indexNames = third_encoded_sf_police_df[(third_encoded_sf_police_df['incident_category'] == 1)].index\n",
    "third_encoded_sf_police_df.drop(indexNames, inplace=True)\n",
    "third_encoded_sf_police_df.head()"
   ]
  },
  {
   "cell_type": "code",
   "execution_count": 11,
   "metadata": {},
   "outputs": [
    {
     "data": {
      "text/plain": [
       "0    209357\n",
       "3    149786\n",
       "2    135196\n",
       "Name: incident_category, dtype: int64"
      ]
     },
     "execution_count": 11,
     "metadata": {},
     "output_type": "execute_result"
    }
   ],
   "source": [
    "third_encoded_sf_police_df['incident_category'].value_counts()"
   ]
  },
  {
   "cell_type": "code",
   "execution_count": 12,
   "metadata": {},
   "outputs": [
    {
     "data": {
      "text/plain": [
       "(494339, 7)"
      ]
     },
     "execution_count": 12,
     "metadata": {},
     "output_type": "execute_result"
    }
   ],
   "source": [
    "third_encoded_sf_police_df.shape"
   ]
  },
  {
   "cell_type": "code",
   "execution_count": 51,
   "metadata": {},
   "outputs": [],
   "source": [
    "#third_encoded_sf_police_df.to_csv(\"final_encoded_sf_police_data.csv\", index=False, header=True)"
   ]
  },
  {
   "cell_type": "code",
   "execution_count": 13,
   "metadata": {},
   "outputs": [],
   "source": [
    "corrMatrix = third_encoded_sf_police_df.corr()"
   ]
  },
  {
   "cell_type": "code",
   "execution_count": 14,
   "metadata": {},
   "outputs": [],
   "source": [
    "%matplotlib inline\n",
    "import seaborn as sn\n",
    "import matplotlib.pyplot as plt\n"
   ]
  },
  {
   "cell_type": "code",
   "execution_count": 15,
   "metadata": {},
   "outputs": [
    {
     "data": {
      "image/png": "[encoded data removed]",
      "text/plain": [
       "<Figure size 432x288 with 2 Axes>"
      ]
     },
     "metadata": {
      "needs_background": "light"
     },
     "output_type": "display_data"
    }
   ],
   "source": [
    "sn.heatmap(corrMatrix, annot=True)\n",
    "plt.show()\n"
   ]
  },
  {
   "cell_type": "code",
   "execution_count": 16,
   "metadata": {},
   "outputs": [
    {
     "data": {
      "text/html": [
       "<div>\n",
       "<style scoped>\n",
       "    .dataframe tbody tr th:only-of-type {\n",
       "        vertical-align: middle;\n",
       "    }\n",
       "\n",
       "    .dataframe tbody tr th {\n",
       "        vertical-align: top;\n",
       "    }\n",
       "\n",
       "    .dataframe thead th {\n",
       "        text-align: right;\n",
       "    }\n",
       "</style>\n",
       "<table border=\"1\" class=\"dataframe\">\n",
       "  <thead>\n",
       "    <tr style=\"text-align: right;\">\n",
       "      <th></th>\n",
       "      <th>incident_category</th>\n",
       "      <th>incident_day_of_week</th>\n",
       "      <th>incident_month</th>\n",
       "      <th>incident_time</th>\n",
       "      <th>police_district</th>\n",
       "      <th>longitude</th>\n",
       "      <th>latitude</th>\n",
       "    </tr>\n",
       "  </thead>\n",
       "  <tbody>\n",
       "    <tr>\n",
       "      <td>count</td>\n",
       "      <td>494339.000000</td>\n",
       "      <td>494339.000000</td>\n",
       "      <td>494339.000000</td>\n",
       "      <td>494339.000000</td>\n",
       "      <td>494339.000000</td>\n",
       "      <td>494339.000000</td>\n",
       "      <td>494339.000000</td>\n",
       "    </tr>\n",
       "    <tr>\n",
       "      <td>mean</td>\n",
       "      <td>1.455985</td>\n",
       "      <td>2.931355</td>\n",
       "      <td>6.420444</td>\n",
       "      <td>13.504745</td>\n",
       "      <td>4.442757</td>\n",
       "      <td>-122.424147</td>\n",
       "      <td>37.765539</td>\n",
       "    </tr>\n",
       "    <tr>\n",
       "      <td>std</td>\n",
       "      <td>1.304258</td>\n",
       "      <td>1.997947</td>\n",
       "      <td>3.439288</td>\n",
       "      <td>6.940768</td>\n",
       "      <td>3.270530</td>\n",
       "      <td>0.030287</td>\n",
       "      <td>0.372366</td>\n",
       "    </tr>\n",
       "    <tr>\n",
       "      <td>min</td>\n",
       "      <td>0.000000</td>\n",
       "      <td>0.000000</td>\n",
       "      <td>1.000000</td>\n",
       "      <td>0.000000</td>\n",
       "      <td>0.000000</td>\n",
       "      <td>-122.513642</td>\n",
       "      <td>37.707879</td>\n",
       "    </tr>\n",
       "    <tr>\n",
       "      <td>25%</td>\n",
       "      <td>0.000000</td>\n",
       "      <td>1.000000</td>\n",
       "      <td>3.000000</td>\n",
       "      <td>9.000000</td>\n",
       "      <td>2.000000</td>\n",
       "      <td>-122.435591</td>\n",
       "      <td>37.742073</td>\n",
       "    </tr>\n",
       "    <tr>\n",
       "      <td>50%</td>\n",
       "      <td>2.000000</td>\n",
       "      <td>3.000000</td>\n",
       "      <td>6.000000</td>\n",
       "      <td>15.000000</td>\n",
       "      <td>4.000000</td>\n",
       "      <td>-122.418091</td>\n",
       "      <td>37.768771</td>\n",
       "    </tr>\n",
       "    <tr>\n",
       "      <td>75%</td>\n",
       "      <td>3.000000</td>\n",
       "      <td>5.000000</td>\n",
       "      <td>9.000000</td>\n",
       "      <td>19.000000</td>\n",
       "      <td>8.000000</td>\n",
       "      <td>-122.406911</td>\n",
       "      <td>37.783260</td>\n",
       "    </tr>\n",
       "    <tr>\n",
       "      <td>max</td>\n",
       "      <td>3.000000</td>\n",
       "      <td>6.000000</td>\n",
       "      <td>12.000000</td>\n",
       "      <td>23.000000</td>\n",
       "      <td>10.000000</td>\n",
       "      <td>-120.500000</td>\n",
       "      <td>90.000000</td>\n",
       "    </tr>\n",
       "  </tbody>\n",
       "</table>\n",
       "</div>"
      ],
      "text/plain": [
       "       incident_category  incident_day_of_week  incident_month  incident_time  \\\n",
       "count      494339.000000         494339.000000   494339.000000  494339.000000   \n",
       "mean            1.455985              2.931355        6.420444      13.504745   \n",
       "std             1.304258              1.997947        3.439288       6.940768   \n",
       "min             0.000000              0.000000        1.000000       0.000000   \n",
       "25%             0.000000              1.000000        3.000000       9.000000   \n",
       "50%             2.000000              3.000000        6.000000      15.000000   \n",
       "75%             3.000000              5.000000        9.000000      19.000000   \n",
       "max             3.000000              6.000000       12.000000      23.000000   \n",
       "\n",
       "       police_district      longitude       latitude  \n",
       "count    494339.000000  494339.000000  494339.000000  \n",
       "mean          4.442757    -122.424147      37.765539  \n",
       "std           3.270530       0.030287       0.372366  \n",
       "min           0.000000    -122.513642      37.707879  \n",
       "25%           2.000000    -122.435591      37.742073  \n",
       "50%           4.000000    -122.418091      37.768771  \n",
       "75%           8.000000    -122.406911      37.783260  \n",
       "max          10.000000    -120.500000      90.000000  "
      ]
     },
     "execution_count": 16,
     "metadata": {},
     "output_type": "execute_result"
    }
   ],
   "source": [
    "third_encoded_sf_police_df.describe()"
   ]
  },
  {
   "cell_type": "code",
   "execution_count": 37,
   "metadata": {},
   "outputs": [
    {
     "data": {
      "text/plain": [
       "0    209357\n",
       "3    149786\n",
       "2    135196\n",
       "Name: incident_category, dtype: int64"
      ]
     },
     "execution_count": 37,
     "metadata": {},
     "output_type": "execute_result"
    }
   ],
   "source": [
    "third_encoded_sf_police_df['incident_category'].value_counts()"
   ]
  },
  {
   "cell_type": "code",
   "execution_count": 17,
   "metadata": {},
   "outputs": [
    {
     "data": {
      "text/html": [
       "<div>\n",
       "<style scoped>\n",
       "    .dataframe tbody tr th:only-of-type {\n",
       "        vertical-align: middle;\n",
       "    }\n",
       "\n",
       "    .dataframe tbody tr th {\n",
       "        vertical-align: top;\n",
       "    }\n",
       "\n",
       "    .dataframe thead th {\n",
       "        text-align: right;\n",
       "    }\n",
       "</style>\n",
       "<table border=\"1\" class=\"dataframe\">\n",
       "  <thead>\n",
       "    <tr style=\"text-align: right;\">\n",
       "      <th></th>\n",
       "      <th>incident_day_of_week</th>\n",
       "      <th>incident_month</th>\n",
       "      <th>incident_time</th>\n",
       "      <th>police_district</th>\n",
       "      <th>longitude</th>\n",
       "      <th>latitude</th>\n",
       "    </tr>\n",
       "  </thead>\n",
       "  <tbody>\n",
       "    <tr>\n",
       "      <td>0</td>\n",
       "      <td>5</td>\n",
       "      <td>6</td>\n",
       "      <td>1</td>\n",
       "      <td>0</td>\n",
       "      <td>-122.396010</td>\n",
       "      <td>37.747262</td>\n",
       "    </tr>\n",
       "    <tr>\n",
       "      <td>1</td>\n",
       "      <td>4</td>\n",
       "      <td>9</td>\n",
       "      <td>22</td>\n",
       "      <td>0</td>\n",
       "      <td>-122.385000</td>\n",
       "      <td>37.755520</td>\n",
       "    </tr>\n",
       "    <tr>\n",
       "      <td>2</td>\n",
       "      <td>2</td>\n",
       "      <td>9</td>\n",
       "      <td>21</td>\n",
       "      <td>0</td>\n",
       "      <td>-122.394589</td>\n",
       "      <td>37.752427</td>\n",
       "    </tr>\n",
       "    <tr>\n",
       "      <td>3</td>\n",
       "      <td>4</td>\n",
       "      <td>3</td>\n",
       "      <td>17</td>\n",
       "      <td>8</td>\n",
       "      <td>-122.412447</td>\n",
       "      <td>37.775634</td>\n",
       "    </tr>\n",
       "    <tr>\n",
       "      <td>4</td>\n",
       "      <td>4</td>\n",
       "      <td>4</td>\n",
       "      <td>22</td>\n",
       "      <td>2</td>\n",
       "      <td>-122.417108</td>\n",
       "      <td>37.712256</td>\n",
       "    </tr>\n",
       "    <tr>\n",
       "      <td>...</td>\n",
       "      <td>...</td>\n",
       "      <td>...</td>\n",
       "      <td>...</td>\n",
       "      <td>...</td>\n",
       "      <td>...</td>\n",
       "      <td>...</td>\n",
       "    </tr>\n",
       "    <tr>\n",
       "      <td>761463</td>\n",
       "      <td>1</td>\n",
       "      <td>1</td>\n",
       "      <td>1</td>\n",
       "      <td>3</td>\n",
       "      <td>-122.428949</td>\n",
       "      <td>37.767504</td>\n",
       "    </tr>\n",
       "    <tr>\n",
       "      <td>761464</td>\n",
       "      <td>1</td>\n",
       "      <td>1</td>\n",
       "      <td>1</td>\n",
       "      <td>10</td>\n",
       "      <td>-122.409775</td>\n",
       "      <td>37.786659</td>\n",
       "    </tr>\n",
       "    <tr>\n",
       "      <td>761465</td>\n",
       "      <td>1</td>\n",
       "      <td>1</td>\n",
       "      <td>0</td>\n",
       "      <td>3</td>\n",
       "      <td>-122.405828</td>\n",
       "      <td>37.768473</td>\n",
       "    </tr>\n",
       "    <tr>\n",
       "      <td>761467</td>\n",
       "      <td>1</td>\n",
       "      <td>1</td>\n",
       "      <td>0</td>\n",
       "      <td>0</td>\n",
       "      <td>-122.374928</td>\n",
       "      <td>37.729660</td>\n",
       "    </tr>\n",
       "    <tr>\n",
       "      <td>761477</td>\n",
       "      <td>1</td>\n",
       "      <td>1</td>\n",
       "      <td>0</td>\n",
       "      <td>0</td>\n",
       "      <td>-122.383638</td>\n",
       "      <td>37.736605</td>\n",
       "    </tr>\n",
       "  </tbody>\n",
       "</table>\n",
       "<p>494339 rows × 6 columns</p>\n",
       "</div>"
      ],
      "text/plain": [
       "        incident_day_of_week  incident_month  incident_time  police_district  \\\n",
       "0                          5               6              1                0   \n",
       "1                          4               9             22                0   \n",
       "2                          2               9             21                0   \n",
       "3                          4               3             17                8   \n",
       "4                          4               4             22                2   \n",
       "...                      ...             ...            ...              ...   \n",
       "761463                     1               1              1                3   \n",
       "761464                     1               1              1               10   \n",
       "761465                     1               1              0                3   \n",
       "761467                     1               1              0                0   \n",
       "761477                     1               1              0                0   \n",
       "\n",
       "         longitude   latitude  \n",
       "0      -122.396010  37.747262  \n",
       "1      -122.385000  37.755520  \n",
       "2      -122.394589  37.752427  \n",
       "3      -122.412447  37.775634  \n",
       "4      -122.417108  37.712256  \n",
       "...            ...        ...  \n",
       "761463 -122.428949  37.767504  \n",
       "761464 -122.409775  37.786659  \n",
       "761465 -122.405828  37.768473  \n",
       "761467 -122.374928  37.729660  \n",
       "761477 -122.383638  37.736605  \n",
       "\n",
       "[494339 rows x 6 columns]"
      ]
     },
     "execution_count": 17,
     "metadata": {},
     "output_type": "execute_result"
    }
   ],
   "source": [
    "features_names = ['incident_day_of_week', 'incident_month', 'incident_time', 'police_district', 'longitude', 'latitude']\n",
    "X = third_encoded_sf_police_df[features_names]\n",
    "y = third_encoded_sf_police_df['incident_category']\n",
    "X"
   ]
  },
  {
   "cell_type": "code",
   "execution_count": 18,
   "metadata": {},
   "outputs": [],
   "source": [
    "from sklearn.model_selection import train_test_split\n",
    "X_train, X_test, y_train, y_test = train_test_split(X, y, random_state=0)\n"
   ]
  },
  {
   "cell_type": "code",
   "execution_count": 20,
   "metadata": {},
   "outputs": [],
   "source": [
    "# Create Scaling \n",
    "from sklearn.preprocessing import MinMaxScaler\n",
    "scaler = MinMaxScaler()\n",
    "X_train_scaled = scaler.fit_transform(X_train)\n",
    "X_test_scaled = scaler.transform(X_test)"
   ]
  },
  {
   "cell_type": "code",
   "execution_count": 21,
   "metadata": {},
   "outputs": [
    {
     "name": "stderr",
     "output_type": "stream",
     "text": [
      "C:\\Users\\flyto\\Anaconda3\\lib\\site-packages\\sklearn\\linear_model\\logistic.py:432: FutureWarning: Default solver will be changed to 'lbfgs' in 0.22. Specify a solver to silence this warning.\n",
      "  FutureWarning)\n",
      "C:\\Users\\flyto\\Anaconda3\\lib\\site-packages\\sklearn\\linear_model\\logistic.py:469: FutureWarning: Default multi_class will be changed to 'auto' in 0.22. Specify the multi_class option to silence this warning.\n",
      "  \"this warning.\", FutureWarning)\n"
     ]
    },
    {
     "name": "stdout",
     "output_type": "stream",
     "text": [
      "0.4435016210209465\n",
      "0.44094348019581664\n"
     ]
    }
   ],
   "source": [
    "# Logistic Regression \n",
    "from sklearn.linear_model import LogisticRegression\n",
    "logreg = LogisticRegression()\n",
    "logreg.fit(X_train_scaled, y_train)\n",
    "print(logreg.score(X_train_scaled, y_train))\n",
    "print(logreg.score(X_test_scaled, y_test))"
   ]
  },
  {
   "cell_type": "code",
   "execution_count": 22,
   "metadata": {},
   "outputs": [
    {
     "name": "stdout",
     "output_type": "stream",
     "text": [
      "0.9769092174325833\n",
      "0.5236153254844844\n"
     ]
    }
   ],
   "source": [
    "# Decision Trees Model\n",
    "from sklearn.tree import DecisionTreeClassifier\n",
    "clf = DecisionTreeClassifier().fit(X_train_scaled, y_train)\n",
    "print(clf.score(X_train_scaled, y_train))\n",
    "print(clf.score(X_test_scaled, y_test))"
   ]
  },
  {
   "cell_type": "code",
   "execution_count": 24,
   "metadata": {},
   "outputs": [
    {
     "name": "stdout",
     "output_type": "stream",
     "text": [
      "0.45252107866671704\n",
      "0.45181858639802563\n"
     ]
    }
   ],
   "source": [
    "dt2 = DecisionTreeClassifier(max_depth=3)\n",
    "dt2.fit(X_train_scaled, y_train)\n",
    "print(dt2.score(X_train_scaled,y_train))\n",
    "print(dt2.score(X_test_scaled,y_test))"
   ]
  },
  {
   "cell_type": "code",
   "execution_count": 25,
   "metadata": {},
   "outputs": [
    {
     "name": "stdout",
     "output_type": "stream",
     "text": [
      "0.4443943962843287\n",
      "0.44174454828660437\n"
     ]
    }
   ],
   "source": [
    "# Linear Discriminant Analysis \n",
    "from sklearn.discriminant_analysis import LinearDiscriminantAnalysis\n",
    "lda = LinearDiscriminantAnalysis()\n",
    "lda.fit(X_train_scaled, y_train)\n",
    "print(lda.score(X_train_scaled, y_train))\n",
    "print(lda.score(X_test_scaled, y_test))"
   ]
  },
  {
   "cell_type": "code",
   "execution_count": 26,
   "metadata": {},
   "outputs": [
    {
     "name": "stdout",
     "output_type": "stream",
     "text": [
      "0.2937527309213117\n",
      "0.2935793178783833\n"
     ]
    }
   ],
   "source": [
    "#Gaussian Naive Bayes\n",
    "from sklearn.naive_bayes import GaussianNB\n",
    "\n",
    "gnb = GaussianNB()\n",
    "gnb.fit(X_train_scaled, y_train)\n",
    "print(gnb.score(X_train_scaled, y_train))\n",
    "print(gnb.score(X_test_scaled, y_test))\n",
    "\n"
   ]
  },
  {
   "cell_type": "code",
   "execution_count": 34,
   "metadata": {},
   "outputs": [
    {
     "name": "stdout",
     "output_type": "stream",
     "text": [
      "0.6168591572848843\n",
      "0.4407897398551604\n"
     ]
    }
   ],
   "source": [
    "# K-Nearest Neighbor \n",
    "from sklearn.neighbors import KNeighborsClassifier\n",
    "# for k in range(1,100):\n",
    "#     print(\"k = \",k)\n",
    "knn = KNeighborsClassifier(n_neighbors=5)\n",
    "knn.fit(X_train_scaled, y_train)\n",
    "print(knn.score(X_train_scaled, y_train))\n",
    "print(knn.score(X_test_scaled, y_test))"
   ]
  },
  {
   "cell_type": "code",
   "execution_count": 44,
   "metadata": {},
   "outputs": [
    {
     "name": "stderr",
     "output_type": "stream",
     "text": [
      "C:\\Users\\flyto\\Anaconda3\\lib\\site-packages\\ipykernel_launcher.py:12: FutureWarning: Method .as_matrix will be removed in a future version. Use .values instead.\n",
      "  if sys.path[0] == '':\n",
      "C:\\Users\\flyto\\Anaconda3\\lib\\site-packages\\ipykernel_launcher.py:13: FutureWarning: Method .as_matrix will be removed in a future version. Use .values instead.\n",
      "  del sys.path[0]\n"
     ]
    },
    {
     "data": {
      "image/png": "[encoded data removed]",
      "text/plain": [
       "<Figure size 432x288 with 1 Axes>"
      ]
     },
     "metadata": {
      "needs_background": "light"
     },
     "output_type": "display_data"
    }
   ],
   "source": [
    "from sklearn.neighbors import KNeighborsClassifier\n",
    "import matplotlib.cm as cm\n",
    "from matplotlib.colors import ListedColormap, BoundaryNorm\n",
    "import matplotlib.patches as mpatches\n",
    "\n",
    "\n",
    "X = third_encoded_sf_police_df[features_names]\n",
    "y = third_encoded_sf_police_df['incident_category']\n",
    "X_train, X_test, y_train, y_test = train_test_split(X, y, random_state=0)\n",
    "\n",
    "def plot_crime_knn(X, y, n_neighbors, weights):\n",
    "    X_mat = X[['longitude','latitude']].as_matrix()\n",
    "    y_mat = y.as_matrix()\n",
    "    \n",
    "    # Create color maps\n",
    "    cmap_light = ListedColormap(['#FFAAAA', '#AAFFAA', '#AAAAFF', '#AFAFAF'])\n",
    "    cmap_bold = ListedColormap([\"#FF0000\", \"#00FF00\", '#0000FF', '#AFAFAF'])\n",
    "    \n",
    "    clf = KNeighborsClassifier(n_neighbors, weights=weights)\n",
    "    clf.fit(X_mat,y_mat)\n",
    "    \n",
    "    mesh_step_size = .01\n",
    "    plot_symbol_size = 50\n",
    "    \n",
    "    x_min, x_max = X_mat[:, 0].min() - 1, X_mat[:, 0].max() + 1\n",
    "    y_min, y_max = X_mat[:, 1].min() - 1, X_mat[:, 1].max() + 1\n",
    "    xx, yy = np.meshgrid(np.arange(x_min, x_max, mesh_step_size),\n",
    "                         np.arange(y_min, y_max, mesh_step_size))\n",
    "    Z = clf.predict(np.c_[xx.ravel(), yy.ravel()])\n",
    "    # Put the result into a color plot\n",
    "    Z = Z.reshape(xx.shape)\n",
    "    plt.figure()\n",
    "    plt.pcolormesh(xx, yy, Z, cmap=cmap_light)\n",
    "    # Plot training points\n",
    "    plt.scatter(X_mat[:, 0], X_mat[:, 1], s=plot_symbol_size, c=y, cmap=cmap_bold, edgecolor = 'black')\n",
    "    plt.xlim(xx.min(), xx.max())\n",
    "    plt.ylim(yy.min(), yy.max())\n",
    "    patch0 = mpatches.Patch(color='#FF0000', label='assault')\n",
    "    patch2 = mpatches.Patch(color='#0000FF', label='vandalism')\n",
    "    patch3 = mpatches.Patch(color='#AFAFAF', label='vehicle-related-crime')\n",
    "    plt.legend(handles=[patch0, patch2, patch3])\n",
    "    plt.xlabel('longitude')\n",
    "    plt.ylabel('latitude')\n",
    "    plt.title(\"3-Classes classification (k = %i, weights = '%s')\"\n",
    "              % (n_neighbors, weights))\n",
    "    plt.show()\n",
    "    \n",
    "\n",
    "plot_crime_knn(X_train,y_train,25,'uniform')"
   ]
  },
  {
   "cell_type": "code",
   "execution_count": 42,
   "metadata": {},
   "outputs": [
    {
     "name": "stdout",
     "output_type": "stream",
     "text": [
      "Getting score...\n",
      "Getting score...\n"
     ]
    },
    {
     "data": {
      "text/plain": [
       "([<matplotlib.axis.XTick at 0x17a8195fac8>,\n",
       "  <matplotlib.axis.XTick at 0x17a8195f188>],\n",
       " <a list of 2 Text xticklabel objects>)"
      ]
     },
     "execution_count": 42,
     "metadata": {},
     "output_type": "execute_result"
    },
    {
     "data": {
      "image/png": "[encoded data removed]",
      "text/plain": [
       "<Figure size 432x288 with 1 Axes>"
      ]
     },
     "metadata": {
      "needs_background": "light"
     },
     "output_type": "display_data"
    }
   ],
   "source": [
    "k_range = (1,5)\n",
    "scores = []\n",
    "for k in k_range:\n",
    "    knn = KNeighborsClassifier(n_neighbors=k)\n",
    "    knn.fit(X_train_scaled, y_train)\n",
    "    print(\"Getting score...\")\n",
    "    scores.append(knn.score(X_test_scaled, y_test))\n",
    "plt.figure()\n",
    "plt.xlabel('k')\n",
    "plt.ylabel('accuracy')\n",
    "plt.scatter(k_range, scores)\n",
    "plt.xticks([0,5])"
   ]
  },
  {
   "cell_type": "code",
   "execution_count": null,
   "metadata": {},
   "outputs": [],
   "source": []
  },
  {
   "cell_type": "code",
   "execution_count": null,
   "metadata": {},
   "outputs": [],
   "source": [
    "# Support Vector Machine \n",
    "# from sklearn.svm import SVC\n",
    "\n",
    "# svm = SVC()\n",
    "# svm.fit(X_train_scaled, y_train)\n",
    "# print(svm.score(X_train_scaled,y_train))\n",
    "# print(svm.score(X_test_scaled,y_test))\n"
   ]
  },
  {
   "cell_type": "code",
   "execution_count": 45,
   "metadata": {},
   "outputs": [],
   "source": [
    "# Predicting the test set results\n",
    "ypred = knn.predict(X_test_scaled)\n",
    "df = pd.DataFrame({\"test\": y_test, \"computer prediction\": ypred})\n",
    "#ypred"
   ]
  },
  {
   "cell_type": "code",
   "execution_count": 50,
   "metadata": {},
   "outputs": [
    {
     "data": {
      "text/html": [
       "<div>\n",
       "<style scoped>\n",
       "    .dataframe tbody tr th:only-of-type {\n",
       "        vertical-align: middle;\n",
       "    }\n",
       "\n",
       "    .dataframe tbody tr th {\n",
       "        vertical-align: top;\n",
       "    }\n",
       "\n",
       "    .dataframe thead th {\n",
       "        text-align: right;\n",
       "    }\n",
       "</style>\n",
       "<table border=\"1\" class=\"dataframe\">\n",
       "  <thead>\n",
       "    <tr style=\"text-align: right;\">\n",
       "      <th></th>\n",
       "      <th>test</th>\n",
       "      <th>computer prediction</th>\n",
       "    </tr>\n",
       "  </thead>\n",
       "  <tbody>\n",
       "    <tr>\n",
       "      <td>676681</td>\n",
       "      <td>3</td>\n",
       "      <td>3</td>\n",
       "    </tr>\n",
       "    <tr>\n",
       "      <td>735268</td>\n",
       "      <td>2</td>\n",
       "      <td>2</td>\n",
       "    </tr>\n",
       "    <tr>\n",
       "      <td>489785</td>\n",
       "      <td>3</td>\n",
       "      <td>0</td>\n",
       "    </tr>\n",
       "    <tr>\n",
       "      <td>147849</td>\n",
       "      <td>0</td>\n",
       "      <td>3</td>\n",
       "    </tr>\n",
       "    <tr>\n",
       "      <td>124771</td>\n",
       "      <td>3</td>\n",
       "      <td>3</td>\n",
       "    </tr>\n",
       "    <tr>\n",
       "      <td>...</td>\n",
       "      <td>...</td>\n",
       "      <td>...</td>\n",
       "    </tr>\n",
       "    <tr>\n",
       "      <td>118631</td>\n",
       "      <td>3</td>\n",
       "      <td>2</td>\n",
       "    </tr>\n",
       "    <tr>\n",
       "      <td>296265</td>\n",
       "      <td>0</td>\n",
       "      <td>0</td>\n",
       "    </tr>\n",
       "    <tr>\n",
       "      <td>429510</td>\n",
       "      <td>2</td>\n",
       "      <td>0</td>\n",
       "    </tr>\n",
       "    <tr>\n",
       "      <td>649847</td>\n",
       "      <td>3</td>\n",
       "      <td>3</td>\n",
       "    </tr>\n",
       "    <tr>\n",
       "      <td>81397</td>\n",
       "      <td>2</td>\n",
       "      <td>0</td>\n",
       "    </tr>\n",
       "  </tbody>\n",
       "</table>\n",
       "<p>123585 rows × 2 columns</p>\n",
       "</div>"
      ],
      "text/plain": [
       "        test  computer prediction\n",
       "676681     3                    3\n",
       "735268     2                    2\n",
       "489785     3                    0\n",
       "147849     0                    3\n",
       "124771     3                    3\n",
       "...      ...                  ...\n",
       "118631     3                    2\n",
       "296265     0                    0\n",
       "429510     2                    0\n",
       "649847     3                    3\n",
       "81397      2                    0\n",
       "\n",
       "[123585 rows x 2 columns]"
      ]
     },
     "execution_count": 50,
     "metadata": {},
     "output_type": "execute_result"
    }
   ],
   "source": [
    "df"
   ]
  },
  {
   "cell_type": "code",
   "execution_count": 47,
   "metadata": {},
   "outputs": [
    {
     "data": {
      "text/plain": [
       "0    71488\n",
       "2    26118\n",
       "3    25979\n",
       "Name: computer prediction, dtype: int64"
      ]
     },
     "execution_count": 47,
     "metadata": {},
     "output_type": "execute_result"
    }
   ],
   "source": [
    "df['computer prediction'].value_counts()"
   ]
  },
  {
   "cell_type": "code",
   "execution_count": 48,
   "metadata": {},
   "outputs": [],
   "source": [
    "import pickle\n",
    "# Saving the model to disk\n",
    "\n",
    "pickle.dump(knn, open('sf_reduced_crime_model_knn.pkl', 'wb'))"
   ]
  },
  {
   "cell_type": "code",
   "execution_count": 49,
   "metadata": {},
   "outputs": [
    {
     "name": "stdout",
     "output_type": "stream",
     "text": [
      "[0]\n"
     ]
    }
   ],
   "source": [
    "# Loading the model to compare the results\n",
    "# incident_day_of_week\tincident_month\tincident_time\tpolice_district\tlongitude\tlatitude\n",
    "model = pickle.load(open('sf_reduced_crime_model_knn.pkl', 'rb'))\n",
    "print(model.predict([[0.663,0.100,1,0.43,0.04,0.23]]))"
   ]
  },
  {
   "cell_type": "code",
   "execution_count": 53,
   "metadata": {},
   "outputs": [],
   "source": [
    "import pandas \n",
    "df1 = pd.read_csv('final_encoded_sf_police_data.csv')"
   ]
  },
  {
   "cell_type": "code",
   "execution_count": 54,
   "metadata": {},
   "outputs": [
    {
     "data": {
      "text/html": [
       "<div>\n",
       "<style scoped>\n",
       "    .dataframe tbody tr th:only-of-type {\n",
       "        vertical-align: middle;\n",
       "    }\n",
       "\n",
       "    .dataframe tbody tr th {\n",
       "        vertical-align: top;\n",
       "    }\n",
       "\n",
       "    .dataframe thead th {\n",
       "        text-align: right;\n",
       "    }\n",
       "</style>\n",
       "<table border=\"1\" class=\"dataframe\">\n",
       "  <thead>\n",
       "    <tr style=\"text-align: right;\">\n",
       "      <th></th>\n",
       "      <th>incident_category</th>\n",
       "      <th>incident_day_of_week</th>\n",
       "      <th>incident_month</th>\n",
       "      <th>incident_time</th>\n",
       "      <th>police_district</th>\n",
       "      <th>longitude</th>\n",
       "      <th>latitude</th>\n",
       "    </tr>\n",
       "  </thead>\n",
       "  <tbody>\n",
       "    <tr>\n",
       "      <td>0</td>\n",
       "      <td>0</td>\n",
       "      <td>5</td>\n",
       "      <td>6</td>\n",
       "      <td>1</td>\n",
       "      <td>0</td>\n",
       "      <td>-122.396010</td>\n",
       "      <td>37.747262</td>\n",
       "    </tr>\n",
       "    <tr>\n",
       "      <td>1</td>\n",
       "      <td>0</td>\n",
       "      <td>4</td>\n",
       "      <td>9</td>\n",
       "      <td>22</td>\n",
       "      <td>0</td>\n",
       "      <td>-122.385000</td>\n",
       "      <td>37.755520</td>\n",
       "    </tr>\n",
       "    <tr>\n",
       "      <td>2</td>\n",
       "      <td>0</td>\n",
       "      <td>2</td>\n",
       "      <td>9</td>\n",
       "      <td>21</td>\n",
       "      <td>0</td>\n",
       "      <td>-122.394589</td>\n",
       "      <td>37.752427</td>\n",
       "    </tr>\n",
       "    <tr>\n",
       "      <td>3</td>\n",
       "      <td>0</td>\n",
       "      <td>4</td>\n",
       "      <td>3</td>\n",
       "      <td>17</td>\n",
       "      <td>8</td>\n",
       "      <td>-122.412447</td>\n",
       "      <td>37.775634</td>\n",
       "    </tr>\n",
       "    <tr>\n",
       "      <td>4</td>\n",
       "      <td>0</td>\n",
       "      <td>4</td>\n",
       "      <td>4</td>\n",
       "      <td>22</td>\n",
       "      <td>2</td>\n",
       "      <td>-122.417108</td>\n",
       "      <td>37.712256</td>\n",
       "    </tr>\n",
       "    <tr>\n",
       "      <td>...</td>\n",
       "      <td>...</td>\n",
       "      <td>...</td>\n",
       "      <td>...</td>\n",
       "      <td>...</td>\n",
       "      <td>...</td>\n",
       "      <td>...</td>\n",
       "      <td>...</td>\n",
       "    </tr>\n",
       "    <tr>\n",
       "      <td>494334</td>\n",
       "      <td>0</td>\n",
       "      <td>1</td>\n",
       "      <td>1</td>\n",
       "      <td>1</td>\n",
       "      <td>3</td>\n",
       "      <td>-122.428949</td>\n",
       "      <td>37.767504</td>\n",
       "    </tr>\n",
       "    <tr>\n",
       "      <td>494335</td>\n",
       "      <td>0</td>\n",
       "      <td>1</td>\n",
       "      <td>1</td>\n",
       "      <td>1</td>\n",
       "      <td>10</td>\n",
       "      <td>-122.409775</td>\n",
       "      <td>37.786659</td>\n",
       "    </tr>\n",
       "    <tr>\n",
       "      <td>494336</td>\n",
       "      <td>0</td>\n",
       "      <td>1</td>\n",
       "      <td>1</td>\n",
       "      <td>0</td>\n",
       "      <td>3</td>\n",
       "      <td>-122.405828</td>\n",
       "      <td>37.768473</td>\n",
       "    </tr>\n",
       "    <tr>\n",
       "      <td>494337</td>\n",
       "      <td>2</td>\n",
       "      <td>1</td>\n",
       "      <td>1</td>\n",
       "      <td>0</td>\n",
       "      <td>0</td>\n",
       "      <td>-122.374928</td>\n",
       "      <td>37.729660</td>\n",
       "    </tr>\n",
       "    <tr>\n",
       "      <td>494338</td>\n",
       "      <td>2</td>\n",
       "      <td>1</td>\n",
       "      <td>1</td>\n",
       "      <td>0</td>\n",
       "      <td>0</td>\n",
       "      <td>-122.383638</td>\n",
       "      <td>37.736605</td>\n",
       "    </tr>\n",
       "  </tbody>\n",
       "</table>\n",
       "<p>494339 rows × 7 columns</p>\n",
       "</div>"
      ],
      "text/plain": [
       "        incident_category  incident_day_of_week  incident_month  \\\n",
       "0                       0                     5               6   \n",
       "1                       0                     4               9   \n",
       "2                       0                     2               9   \n",
       "3                       0                     4               3   \n",
       "4                       0                     4               4   \n",
       "...                   ...                   ...             ...   \n",
       "494334                  0                     1               1   \n",
       "494335                  0                     1               1   \n",
       "494336                  0                     1               1   \n",
       "494337                  2                     1               1   \n",
       "494338                  2                     1               1   \n",
       "\n",
       "        incident_time  police_district   longitude   latitude  \n",
       "0                   1                0 -122.396010  37.747262  \n",
       "1                  22                0 -122.385000  37.755520  \n",
       "2                  21                0 -122.394589  37.752427  \n",
       "3                  17                8 -122.412447  37.775634  \n",
       "4                  22                2 -122.417108  37.712256  \n",
       "...               ...              ...         ...        ...  \n",
       "494334              1                3 -122.428949  37.767504  \n",
       "494335              1               10 -122.409775  37.786659  \n",
       "494336              0                3 -122.405828  37.768473  \n",
       "494337              0                0 -122.374928  37.729660  \n",
       "494338              0                0 -122.383638  37.736605  \n",
       "\n",
       "[494339 rows x 7 columns]"
      ]
     },
     "execution_count": 54,
     "metadata": {},
     "output_type": "execute_result"
    }
   ],
   "source": [
    "\n",
    "X = "
   ]
  },
  {
   "cell_type": "code",
   "execution_count": 77,
   "metadata": {},
   "outputs": [
    {
     "data": {
      "text/html": [
       "<div>\n",
       "<style scoped>\n",
       "    .dataframe tbody tr th:only-of-type {\n",
       "        vertical-align: middle;\n",
       "    }\n",
       "\n",
       "    .dataframe tbody tr th {\n",
       "        vertical-align: top;\n",
       "    }\n",
       "\n",
       "    .dataframe thead th {\n",
       "        text-align: right;\n",
       "    }\n",
       "</style>\n",
       "<table border=\"1\" class=\"dataframe\">\n",
       "  <thead>\n",
       "    <tr style=\"text-align: right;\">\n",
       "      <th></th>\n",
       "      <th>incident_day_of_week</th>\n",
       "      <th>incident_month</th>\n",
       "      <th>incident_time</th>\n",
       "      <th>police_district</th>\n",
       "      <th>longitude</th>\n",
       "      <th>latitude</th>\n",
       "    </tr>\n",
       "  </thead>\n",
       "  <tbody>\n",
       "    <tr>\n",
       "      <td>0</td>\n",
       "      <td>5</td>\n",
       "      <td>6</td>\n",
       "      <td>1</td>\n",
       "      <td>0</td>\n",
       "      <td>-122.396010</td>\n",
       "      <td>37.747262</td>\n",
       "    </tr>\n",
       "    <tr>\n",
       "      <td>1</td>\n",
       "      <td>4</td>\n",
       "      <td>9</td>\n",
       "      <td>22</td>\n",
       "      <td>0</td>\n",
       "      <td>-122.385000</td>\n",
       "      <td>37.755520</td>\n",
       "    </tr>\n",
       "    <tr>\n",
       "      <td>2</td>\n",
       "      <td>2</td>\n",
       "      <td>9</td>\n",
       "      <td>21</td>\n",
       "      <td>0</td>\n",
       "      <td>-122.394589</td>\n",
       "      <td>37.752427</td>\n",
       "    </tr>\n",
       "    <tr>\n",
       "      <td>3</td>\n",
       "      <td>4</td>\n",
       "      <td>3</td>\n",
       "      <td>17</td>\n",
       "      <td>8</td>\n",
       "      <td>-122.412447</td>\n",
       "      <td>37.775634</td>\n",
       "    </tr>\n",
       "    <tr>\n",
       "      <td>4</td>\n",
       "      <td>4</td>\n",
       "      <td>4</td>\n",
       "      <td>22</td>\n",
       "      <td>2</td>\n",
       "      <td>-122.417108</td>\n",
       "      <td>37.712256</td>\n",
       "    </tr>\n",
       "    <tr>\n",
       "      <td>...</td>\n",
       "      <td>...</td>\n",
       "      <td>...</td>\n",
       "      <td>...</td>\n",
       "      <td>...</td>\n",
       "      <td>...</td>\n",
       "      <td>...</td>\n",
       "    </tr>\n",
       "    <tr>\n",
       "      <td>494335</td>\n",
       "      <td>1</td>\n",
       "      <td>1</td>\n",
       "      <td>1</td>\n",
       "      <td>10</td>\n",
       "      <td>-122.409775</td>\n",
       "      <td>37.786659</td>\n",
       "    </tr>\n",
       "    <tr>\n",
       "      <td>494336</td>\n",
       "      <td>1</td>\n",
       "      <td>1</td>\n",
       "      <td>0</td>\n",
       "      <td>3</td>\n",
       "      <td>-122.405828</td>\n",
       "      <td>37.768473</td>\n",
       "    </tr>\n",
       "    <tr>\n",
       "      <td>494337</td>\n",
       "      <td>1</td>\n",
       "      <td>1</td>\n",
       "      <td>0</td>\n",
       "      <td>0</td>\n",
       "      <td>-122.374928</td>\n",
       "      <td>37.729660</td>\n",
       "    </tr>\n",
       "    <tr>\n",
       "      <td>494338</td>\n",
       "      <td>1</td>\n",
       "      <td>1</td>\n",
       "      <td>0</td>\n",
       "      <td>0</td>\n",
       "      <td>-122.383638</td>\n",
       "      <td>37.736605</td>\n",
       "    </tr>\n",
       "    <tr>\n",
       "      <td>494339</td>\n",
       "      <td>5</td>\n",
       "      <td>3</td>\n",
       "      <td>23</td>\n",
       "      <td>0</td>\n",
       "      <td>-122.412470</td>\n",
       "      <td>37.755520</td>\n",
       "    </tr>\n",
       "  </tbody>\n",
       "</table>\n",
       "<p>494340 rows × 6 columns</p>\n",
       "</div>"
      ],
      "text/plain": [
       "        incident_day_of_week  incident_month  incident_time  police_district  \\\n",
       "0                          5               6              1                0   \n",
       "1                          4               9             22                0   \n",
       "2                          2               9             21                0   \n",
       "3                          4               3             17                8   \n",
       "4                          4               4             22                2   \n",
       "...                      ...             ...            ...              ...   \n",
       "494335                     1               1              1               10   \n",
       "494336                     1               1              0                3   \n",
       "494337                     1               1              0                0   \n",
       "494338                     1               1              0                0   \n",
       "494339                     5               3             23                0   \n",
       "\n",
       "         longitude   latitude  \n",
       "0      -122.396010  37.747262  \n",
       "1      -122.385000  37.755520  \n",
       "2      -122.394589  37.752427  \n",
       "3      -122.412447  37.775634  \n",
       "4      -122.417108  37.712256  \n",
       "...            ...        ...  \n",
       "494335 -122.409775  37.786659  \n",
       "494336 -122.405828  37.768473  \n",
       "494337 -122.374928  37.729660  \n",
       "494338 -122.383638  37.736605  \n",
       "494339 -122.412470  37.755520  \n",
       "\n",
       "[494340 rows x 6 columns]"
      ]
     },
     "execution_count": 77,
     "metadata": {},
     "output_type": "execute_result"
    }
   ],
   "source": [
    "features_names = ['incident_day_of_week', 'incident_month', 'incident_time', 'police_district', 'longitude', 'latitude']\n",
    "X = third_encoded_sf_police_df[features_names]\n",
    "X\n",
    "live = pd.DataFrame([[5, 3, 23, 0, -122.41247, 37.755520]], columns=features_names)\n",
    "live_df = pd.concat([X,live], ignore_index=True)\n",
    "live_df"
   ]
  },
  {
   "cell_type": "code",
   "execution_count": 74,
   "metadata": {},
   "outputs": [
    {
     "data": {
      "text/plain": [
       "array([8.33333333e-01, 1.81818182e-01, 1.00000000e+00, 0.00000000e+00,\n",
       "       5.02433208e-02, 9.11054604e-04])"
      ]
     },
     "execution_count": 74,
     "metadata": {},
     "output_type": "execute_result"
    }
   ],
   "source": [
    "# Create Scaling \n",
    "from sklearn.preprocessing import MinMaxScaler\n",
    "scaler = MinMaxScaler()\n",
    "X_train_scaled = scaler.fit_transform(live_df)\n",
    "X_train_scaled\n",
    "X_train_scaled[-1]"
   ]
  },
  {
   "cell_type": "code",
   "execution_count": 75,
   "metadata": {},
   "outputs": [
    {
     "data": {
      "text/plain": [
       "array([3], dtype=int64)"
      ]
     },
     "execution_count": 75,
     "metadata": {},
     "output_type": "execute_result"
    }
   ],
   "source": [
    "model.predict([[8.33333333e-01, 1.81818182e-01, 1.00000000e+00, 0.00000000e+00,\n",
    "       5.02433208e-02, 9.11054604e-04]])"
   ]
  },
  {
   "cell_type": "code",
   "execution_count": null,
   "metadata": {},
   "outputs": [],
   "source": []
  },
  {
   "cell_type": "code",
   "execution_count": null,
   "metadata": {},
   "outputs": [],
   "source": []
  },
  {
   "cell_type": "code",
   "execution_count": null,
   "metadata": {},
   "outputs": [],
   "source": []
  },
  {
   "cell_type": "code",
   "execution_count": null,
   "metadata": {},
   "outputs": [],
   "source": []
  },
  {
   "cell_type": "code",
   "execution_count": null,
   "metadata": {},
   "outputs": [],
   "source": []
  }
 ],
 "metadata": {
  "kernelspec": {
   "display_name": "Python 3",
   "language": "python",
   "name": "python3"
  },
  "language_info": {
   "codemirror_mode": {
    "name": "ipython",
    "version": 3
   },
   "file_extension": ".py",
   "mimetype": "text/x-python",
   "name": "python",
   "nbconvert_exporter": "python",
   "pygments_lexer": "ipython3",
   "version": "3.7.4"
  }
 },
 "nbformat": 4,
 "nbformat_minor": 2
}
