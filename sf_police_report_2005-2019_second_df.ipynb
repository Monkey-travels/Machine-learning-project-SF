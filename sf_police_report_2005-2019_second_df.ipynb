{
 "cells": [
  {
   "cell_type": "code",
   "execution_count": 2,
   "metadata": {},
   "outputs": [],
   "source": [
    "%matplotlib notebook"
   ]
  },
  {
   "cell_type": "code",
   "execution_count": 3,
   "metadata": {},
   "outputs": [],
   "source": [
    "import os\n",
    "import pandas as pd\n",
    "import numpy as np\n",
    "from scipy import stats\n"
   ]
  },
  {
   "cell_type": "code",
   "execution_count": 4,
   "metadata": {},
   "outputs": [],
   "source": [
    "%matplotlib inline\n",
    "import seaborn as sn\n",
    "import matplotlib.pyplot as plt"
   ]
  },
  {
   "cell_type": "code",
   "execution_count": 5,
   "metadata": {},
   "outputs": [
    {
     "data": {
      "text/html": [
       "<div>\n",
       "<style scoped>\n",
       "    .dataframe tbody tr th:only-of-type {\n",
       "        vertical-align: middle;\n",
       "    }\n",
       "\n",
       "    .dataframe tbody tr th {\n",
       "        vertical-align: top;\n",
       "    }\n",
       "\n",
       "    .dataframe thead th {\n",
       "        text-align: right;\n",
       "    }\n",
       "</style>\n",
       "<table border=\"1\" class=\"dataframe\">\n",
       "  <thead>\n",
       "    <tr style=\"text-align: right;\">\n",
       "      <th></th>\n",
       "      <th>incident_category</th>\n",
       "      <th>incident_day_of_week</th>\n",
       "      <th>incident_month</th>\n",
       "      <th>incident_time</th>\n",
       "      <th>police_district</th>\n",
       "      <th>longitude</th>\n",
       "      <th>latitude</th>\n",
       "    </tr>\n",
       "  </thead>\n",
       "  <tbody>\n",
       "    <tr>\n",
       "      <td>0</td>\n",
       "      <td>0</td>\n",
       "      <td>5</td>\n",
       "      <td>6</td>\n",
       "      <td>1</td>\n",
       "      <td>0</td>\n",
       "      <td>-122.396010</td>\n",
       "      <td>37.747262</td>\n",
       "    </tr>\n",
       "    <tr>\n",
       "      <td>1</td>\n",
       "      <td>0</td>\n",
       "      <td>4</td>\n",
       "      <td>9</td>\n",
       "      <td>22</td>\n",
       "      <td>0</td>\n",
       "      <td>-122.385000</td>\n",
       "      <td>37.755520</td>\n",
       "    </tr>\n",
       "    <tr>\n",
       "      <td>2</td>\n",
       "      <td>0</td>\n",
       "      <td>2</td>\n",
       "      <td>9</td>\n",
       "      <td>21</td>\n",
       "      <td>0</td>\n",
       "      <td>-122.394589</td>\n",
       "      <td>37.752427</td>\n",
       "    </tr>\n",
       "    <tr>\n",
       "      <td>3</td>\n",
       "      <td>0</td>\n",
       "      <td>4</td>\n",
       "      <td>3</td>\n",
       "      <td>17</td>\n",
       "      <td>8</td>\n",
       "      <td>-122.412447</td>\n",
       "      <td>37.775634</td>\n",
       "    </tr>\n",
       "    <tr>\n",
       "      <td>4</td>\n",
       "      <td>0</td>\n",
       "      <td>4</td>\n",
       "      <td>4</td>\n",
       "      <td>22</td>\n",
       "      <td>2</td>\n",
       "      <td>-122.417108</td>\n",
       "      <td>37.712256</td>\n",
       "    </tr>\n",
       "  </tbody>\n",
       "</table>\n",
       "</div>"
      ],
      "text/plain": [
       "   incident_category  incident_day_of_week  incident_month  incident_time  \\\n",
       "0                  0                     5               6              1   \n",
       "1                  0                     4               9             22   \n",
       "2                  0                     2               9             21   \n",
       "3                  0                     4               3             17   \n",
       "4                  0                     4               4             22   \n",
       "\n",
       "   police_district   longitude   latitude  \n",
       "0                0 -122.396010  37.747262  \n",
       "1                0 -122.385000  37.755520  \n",
       "2                0 -122.394589  37.752427  \n",
       "3                8 -122.412447  37.775634  \n",
       "4                2 -122.417108  37.712256  "
      ]
     },
     "execution_count": 5,
     "metadata": {},
     "output_type": "execute_result"
    }
   ],
   "source": [
    "#Open the second encoded sf police data\n",
    "second_sf_police = \"./data/second_encoded_sf_police_data.csv\"\n",
    "\n",
    "second_encoded_sf_police_df = pd.read_csv(second_sf_police)\n",
    "second_encoded_sf_police_df.head()\n",
    "\n",
    "#data labeling\n",
    "\n",
    "# incident_category: theft(1), vandalism(2), vehicle-related-crime(3), assault(0)\n",
    "# incident_day_of_week: Mon(1), Tue(5), Wed(6), Thu(4), Fri(0), Sat(2), Sun(3)\n",
    "# police_district: southern(8), northern(4), central(1), mission(3), bayview(0), ingleside(2), \n",
    "# taraval(9), richmond(7), tenderloin(10), park(6), out of sf(5)\n"
   ]
  },
  {
   "cell_type": "code",
   "execution_count": 6,
   "metadata": {},
   "outputs": [
    {
     "data": {
      "text/plain": [
       "(761482, 7)"
      ]
     },
     "execution_count": 6,
     "metadata": {},
     "output_type": "execute_result"
    }
   ],
   "source": [
    "second_encoded_sf_police_df.shape"
   ]
  },
  {
   "cell_type": "code",
   "execution_count": 7,
   "metadata": {},
   "outputs": [
    {
     "data": {
      "text/plain": [
       "incident_category         int64\n",
       "incident_day_of_week      int64\n",
       "incident_month            int64\n",
       "incident_time             int64\n",
       "police_district           int64\n",
       "longitude               float64\n",
       "latitude                float64\n",
       "dtype: object"
      ]
     },
     "execution_count": 7,
     "metadata": {},
     "output_type": "execute_result"
    }
   ],
   "source": [
    "second_encoded_sf_police_df.dtypes"
   ]
  },
  {
   "cell_type": "code",
   "execution_count": 8,
   "metadata": {},
   "outputs": [
    {
     "data": {
      "text/plain": [
       "1    267143\n",
       "0    209357\n",
       "3    149786\n",
       "2    135196\n",
       "Name: incident_category, dtype: int64"
      ]
     },
     "execution_count": 8,
     "metadata": {},
     "output_type": "execute_result"
    }
   ],
   "source": [
    "second_encoded_sf_police_df['incident_category'].value_counts()"
   ]
  },
  {
   "cell_type": "code",
   "execution_count": 9,
   "metadata": {},
   "outputs": [],
   "source": [
    "corrMatrix = second_encoded_sf_police_df.corr()"
   ]
  },
  {
   "cell_type": "code",
   "execution_count": 10,
   "metadata": {},
   "outputs": [
    {
     "data": {
      "image/png": "[encoded data removed]",
      "text/plain": [
       "<Figure size 432x288 with 2 Axes>"
      ]
     },
     "metadata": {
      "needs_background": "light"
     },
     "output_type": "display_data"
    }
   ],
   "source": [
    "sn.heatmap(corrMatrix, annot=True)\n",
    "plt.show()"
   ]
  },
  {
   "cell_type": "code",
   "execution_count": 11,
   "metadata": {},
   "outputs": [
    {
     "data": {
      "text/html": [
       "<div>\n",
       "<style scoped>\n",
       "    .dataframe tbody tr th:only-of-type {\n",
       "        vertical-align: middle;\n",
       "    }\n",
       "\n",
       "    .dataframe tbody tr th {\n",
       "        vertical-align: top;\n",
       "    }\n",
       "\n",
       "    .dataframe thead th {\n",
       "        text-align: right;\n",
       "    }\n",
       "</style>\n",
       "<table border=\"1\" class=\"dataframe\">\n",
       "  <thead>\n",
       "    <tr style=\"text-align: right;\">\n",
       "      <th></th>\n",
       "      <th>incident_category</th>\n",
       "      <th>incident_day_of_week</th>\n",
       "      <th>incident_month</th>\n",
       "      <th>incident_time</th>\n",
       "      <th>police_district</th>\n",
       "      <th>longitude</th>\n",
       "      <th>latitude</th>\n",
       "    </tr>\n",
       "  </thead>\n",
       "  <tbody>\n",
       "    <tr>\n",
       "      <td>count</td>\n",
       "      <td>761482.000000</td>\n",
       "      <td>761482.000000</td>\n",
       "      <td>761482.000000</td>\n",
       "      <td>761482.000000</td>\n",
       "      <td>761482.000000</td>\n",
       "      <td>761482.000000</td>\n",
       "      <td>761482.000000</td>\n",
       "    </tr>\n",
       "    <tr>\n",
       "      <td>mean</td>\n",
       "      <td>1.296016</td>\n",
       "      <td>2.931452</td>\n",
       "      <td>6.326990</td>\n",
       "      <td>13.700178</td>\n",
       "      <td>4.526875</td>\n",
       "      <td>-122.424199</td>\n",
       "      <td>37.768441</td>\n",
       "    </tr>\n",
       "    <tr>\n",
       "      <td>std</td>\n",
       "      <td>1.073157</td>\n",
       "      <td>2.003610</td>\n",
       "      <td>3.467367</td>\n",
       "      <td>6.726921</td>\n",
       "      <td>3.221410</td>\n",
       "      <td>0.028940</td>\n",
       "      <td>0.300338</td>\n",
       "    </tr>\n",
       "    <tr>\n",
       "      <td>min</td>\n",
       "      <td>0.000000</td>\n",
       "      <td>0.000000</td>\n",
       "      <td>1.000000</td>\n",
       "      <td>0.000000</td>\n",
       "      <td>0.000000</td>\n",
       "      <td>-122.513642</td>\n",
       "      <td>37.707879</td>\n",
       "    </tr>\n",
       "    <tr>\n",
       "      <td>25%</td>\n",
       "      <td>0.000000</td>\n",
       "      <td>1.000000</td>\n",
       "      <td>3.000000</td>\n",
       "      <td>9.000000</td>\n",
       "      <td>2.000000</td>\n",
       "      <td>-122.435066</td>\n",
       "      <td>37.750505</td>\n",
       "    </tr>\n",
       "    <tr>\n",
       "      <td>50%</td>\n",
       "      <td>1.000000</td>\n",
       "      <td>3.000000</td>\n",
       "      <td>6.000000</td>\n",
       "      <td>15.000000</td>\n",
       "      <td>4.000000</td>\n",
       "      <td>-122.418120</td>\n",
       "      <td>37.774129</td>\n",
       "    </tr>\n",
       "    <tr>\n",
       "      <td>75%</td>\n",
       "      <td>2.000000</td>\n",
       "      <td>5.000000</td>\n",
       "      <td>9.000000</td>\n",
       "      <td>19.000000</td>\n",
       "      <td>8.000000</td>\n",
       "      <td>-122.406775</td>\n",
       "      <td>37.785008</td>\n",
       "    </tr>\n",
       "    <tr>\n",
       "      <td>max</td>\n",
       "      <td>3.000000</td>\n",
       "      <td>6.000000</td>\n",
       "      <td>12.000000</td>\n",
       "      <td>23.000000</td>\n",
       "      <td>10.000000</td>\n",
       "      <td>-120.500000</td>\n",
       "      <td>90.000000</td>\n",
       "    </tr>\n",
       "  </tbody>\n",
       "</table>\n",
       "</div>"
      ],
      "text/plain": [
       "       incident_category  incident_day_of_week  incident_month  incident_time  \\\n",
       "count      761482.000000         761482.000000   761482.000000  761482.000000   \n",
       "mean            1.296016              2.931452        6.326990      13.700178   \n",
       "std             1.073157              2.003610        3.467367       6.726921   \n",
       "min             0.000000              0.000000        1.000000       0.000000   \n",
       "25%             0.000000              1.000000        3.000000       9.000000   \n",
       "50%             1.000000              3.000000        6.000000      15.000000   \n",
       "75%             2.000000              5.000000        9.000000      19.000000   \n",
       "max             3.000000              6.000000       12.000000      23.000000   \n",
       "\n",
       "       police_district      longitude       latitude  \n",
       "count    761482.000000  761482.000000  761482.000000  \n",
       "mean          4.526875    -122.424199      37.768441  \n",
       "std           3.221410       0.028940       0.300338  \n",
       "min           0.000000    -122.513642      37.707879  \n",
       "25%           2.000000    -122.435066      37.750505  \n",
       "50%           4.000000    -122.418120      37.774129  \n",
       "75%           8.000000    -122.406775      37.785008  \n",
       "max          10.000000    -120.500000      90.000000  "
      ]
     },
     "execution_count": 11,
     "metadata": {},
     "output_type": "execute_result"
    }
   ],
   "source": [
    "second_encoded_sf_police_df.describe()"
   ]
  },
  {
   "cell_type": "code",
   "execution_count": 13,
   "metadata": {},
   "outputs": [
    {
     "data": {
      "text/html": [
       "<div>\n",
       "<style scoped>\n",
       "    .dataframe tbody tr th:only-of-type {\n",
       "        vertical-align: middle;\n",
       "    }\n",
       "\n",
       "    .dataframe tbody tr th {\n",
       "        vertical-align: top;\n",
       "    }\n",
       "\n",
       "    .dataframe thead th {\n",
       "        text-align: right;\n",
       "    }\n",
       "</style>\n",
       "<table border=\"1\" class=\"dataframe\">\n",
       "  <thead>\n",
       "    <tr style=\"text-align: right;\">\n",
       "      <th></th>\n",
       "      <th>incident_day_of_week</th>\n",
       "      <th>incident_month</th>\n",
       "      <th>incident_time</th>\n",
       "      <th>police_district</th>\n",
       "      <th>longitude</th>\n",
       "      <th>latitude</th>\n",
       "    </tr>\n",
       "  </thead>\n",
       "  <tbody>\n",
       "    <tr>\n",
       "      <td>0</td>\n",
       "      <td>5</td>\n",
       "      <td>6</td>\n",
       "      <td>1</td>\n",
       "      <td>0</td>\n",
       "      <td>-122.396010</td>\n",
       "      <td>37.747262</td>\n",
       "    </tr>\n",
       "    <tr>\n",
       "      <td>1</td>\n",
       "      <td>4</td>\n",
       "      <td>9</td>\n",
       "      <td>22</td>\n",
       "      <td>0</td>\n",
       "      <td>-122.385000</td>\n",
       "      <td>37.755520</td>\n",
       "    </tr>\n",
       "    <tr>\n",
       "      <td>2</td>\n",
       "      <td>2</td>\n",
       "      <td>9</td>\n",
       "      <td>21</td>\n",
       "      <td>0</td>\n",
       "      <td>-122.394589</td>\n",
       "      <td>37.752427</td>\n",
       "    </tr>\n",
       "    <tr>\n",
       "      <td>3</td>\n",
       "      <td>4</td>\n",
       "      <td>3</td>\n",
       "      <td>17</td>\n",
       "      <td>8</td>\n",
       "      <td>-122.412447</td>\n",
       "      <td>37.775634</td>\n",
       "    </tr>\n",
       "    <tr>\n",
       "      <td>4</td>\n",
       "      <td>4</td>\n",
       "      <td>4</td>\n",
       "      <td>22</td>\n",
       "      <td>2</td>\n",
       "      <td>-122.417108</td>\n",
       "      <td>37.712256</td>\n",
       "    </tr>\n",
       "    <tr>\n",
       "      <td>...</td>\n",
       "      <td>...</td>\n",
       "      <td>...</td>\n",
       "      <td>...</td>\n",
       "      <td>...</td>\n",
       "      <td>...</td>\n",
       "      <td>...</td>\n",
       "    </tr>\n",
       "    <tr>\n",
       "      <td>761477</td>\n",
       "      <td>1</td>\n",
       "      <td>1</td>\n",
       "      <td>0</td>\n",
       "      <td>0</td>\n",
       "      <td>-122.383638</td>\n",
       "      <td>37.736605</td>\n",
       "    </tr>\n",
       "    <tr>\n",
       "      <td>761478</td>\n",
       "      <td>1</td>\n",
       "      <td>1</td>\n",
       "      <td>0</td>\n",
       "      <td>8</td>\n",
       "      <td>-122.375593</td>\n",
       "      <td>37.824524</td>\n",
       "    </tr>\n",
       "    <tr>\n",
       "      <td>761479</td>\n",
       "      <td>1</td>\n",
       "      <td>1</td>\n",
       "      <td>0</td>\n",
       "      <td>1</td>\n",
       "      <td>-122.405221</td>\n",
       "      <td>37.788694</td>\n",
       "    </tr>\n",
       "    <tr>\n",
       "      <td>761480</td>\n",
       "      <td>1</td>\n",
       "      <td>1</td>\n",
       "      <td>0</td>\n",
       "      <td>10</td>\n",
       "      <td>-122.409309</td>\n",
       "      <td>37.784349</td>\n",
       "    </tr>\n",
       "    <tr>\n",
       "      <td>761481</td>\n",
       "      <td>1</td>\n",
       "      <td>1</td>\n",
       "      <td>0</td>\n",
       "      <td>8</td>\n",
       "      <td>-122.403028</td>\n",
       "      <td>37.787024</td>\n",
       "    </tr>\n",
       "  </tbody>\n",
       "</table>\n",
       "<p>761482 rows × 6 columns</p>\n",
       "</div>"
      ],
      "text/plain": [
       "        incident_day_of_week  incident_month  incident_time  police_district  \\\n",
       "0                          5               6              1                0   \n",
       "1                          4               9             22                0   \n",
       "2                          2               9             21                0   \n",
       "3                          4               3             17                8   \n",
       "4                          4               4             22                2   \n",
       "...                      ...             ...            ...              ...   \n",
       "761477                     1               1              0                0   \n",
       "761478                     1               1              0                8   \n",
       "761479                     1               1              0                1   \n",
       "761480                     1               1              0               10   \n",
       "761481                     1               1              0                8   \n",
       "\n",
       "         longitude   latitude  \n",
       "0      -122.396010  37.747262  \n",
       "1      -122.385000  37.755520  \n",
       "2      -122.394589  37.752427  \n",
       "3      -122.412447  37.775634  \n",
       "4      -122.417108  37.712256  \n",
       "...            ...        ...  \n",
       "761477 -122.383638  37.736605  \n",
       "761478 -122.375593  37.824524  \n",
       "761479 -122.405221  37.788694  \n",
       "761480 -122.409309  37.784349  \n",
       "761481 -122.403028  37.787024  \n",
       "\n",
       "[761482 rows x 6 columns]"
      ]
     },
     "execution_count": 13,
     "metadata": {},
     "output_type": "execute_result"
    }
   ],
   "source": [
    "features_names = ['incident_day_of_week', 'incident_month', 'incident_time', 'police_district', 'longitude', 'latitude']\n",
    "X = second_encoded_sf_police_df[features_names]\n",
    "y = second_encoded_sf_police_df['incident_category']\n",
    "X"
   ]
  },
  {
   "cell_type": "code",
   "execution_count": 14,
   "metadata": {},
   "outputs": [],
   "source": [
    "from sklearn.model_selection import train_test_split\n",
    "X_train, X_test, y_train, y_test = train_test_split(X, y, random_state=0)\n"
   ]
  },
  {
   "cell_type": "code",
   "execution_count": 15,
   "metadata": {},
   "outputs": [],
   "source": [
    "# Create Scaling \n",
    "from sklearn.preprocessing import MinMaxScaler\n",
    "scaler = MinMaxScaler()\n",
    "X_train_scaled = scaler.fit_transform(X_train)\n",
    "X_test_scaled = scaler.transform(X_test)"
   ]
  },
  {
   "cell_type": "code",
   "execution_count": 16,
   "metadata": {},
   "outputs": [
    {
     "name": "stderr",
     "output_type": "stream",
     "text": [
      "C:\\Users\\flyto\\Anaconda3\\lib\\site-packages\\sklearn\\linear_model\\logistic.py:432: FutureWarning: Default solver will be changed to 'lbfgs' in 0.22. Specify a solver to silence this warning.\n",
      "  FutureWarning)\n",
      "C:\\Users\\flyto\\Anaconda3\\lib\\site-packages\\sklearn\\linear_model\\logistic.py:469: FutureWarning: Default multi_class will be changed to 'auto' in 0.22. Specify the multi_class option to silence this warning.\n",
      "  \"this warning.\", FutureWarning)\n"
     ]
    },
    {
     "name": "stdout",
     "output_type": "stream",
     "text": [
      "0.3616669964332678\n",
      "0.3605643716742571\n"
     ]
    }
   ],
   "source": [
    "# Logistic Regression \n",
    "from sklearn.linear_model import LogisticRegression\n",
    "logreg = LogisticRegression()\n",
    "logreg.fit(X_train_scaled, y_train)\n",
    "print(logreg.score(X_train_scaled, y_train))\n",
    "print(logreg.score(X_test_scaled, y_test))"
   ]
  },
  {
   "cell_type": "code",
   "execution_count": 17,
   "metadata": {},
   "outputs": [
    {
     "name": "stdout",
     "output_type": "stream",
     "text": [
      "0.9618042727245667\n",
      "0.4567449874193023\n"
     ]
    }
   ],
   "source": [
    "# Decision Trees Model\n",
    "from sklearn.tree import DecisionTreeClassifier\n",
    "clf = DecisionTreeClassifier().fit(X_train_scaled, y_train)\n",
    "print(clf.score(X_train_scaled, y_train))\n",
    "print(clf.score(X_test_scaled, y_test))"
   ]
  },
  {
   "cell_type": "code",
   "execution_count": 24,
   "metadata": {},
   "outputs": [
    {
     "name": "stdout",
     "output_type": "stream",
     "text": [
      "0.4202160350614854\n",
      "0.42025833766697657\n"
     ]
    }
   ],
   "source": [
    "dt2 = DecisionTreeClassifier(max_depth=6)\n",
    "dt2.fit(X_train_scaled, y_train)\n",
    "print(dt2.score(X_train_scaled,y_train))\n",
    "print(dt2.score(X_test_scaled,y_test))"
   ]
  },
  {
   "cell_type": "code",
   "execution_count": 25,
   "metadata": {},
   "outputs": [
    {
     "name": "stdout",
     "output_type": "stream",
     "text": [
      "0.4552092325309791\n",
      "0.3874329598520783\n"
     ]
    }
   ],
   "source": [
    "# K-Nearest Neighbor \n",
    "from sklearn.neighbors import KNeighborsClassifier\n",
    "knn = KNeighborsClassifier(n_neighbors=20)\n",
    "knn.fit(X_train_scaled, y_train)\n",
    "print(knn.score(X_train_scaled, y_train))\n",
    "print(knn.score(X_test_scaled, y_test))"
   ]
  },
  {
   "cell_type": "code",
   "execution_count": 27,
   "metadata": {},
   "outputs": [
    {
     "name": "stderr",
     "output_type": "stream",
     "text": [
      "C:\\Users\\flyto\\Anaconda3\\lib\\site-packages\\ipykernel_launcher.py:12: FutureWarning: Method .as_matrix will be removed in a future version. Use .values instead.\n",
      "  if sys.path[0] == '':\n",
      "C:\\Users\\flyto\\Anaconda3\\lib\\site-packages\\ipykernel_launcher.py:13: FutureWarning: Method .as_matrix will be removed in a future version. Use .values instead.\n",
      "  del sys.path[0]\n"
     ]
    },
    {
     "data": {
      "image/png": "[encoded data removed]",
      "text/plain": [
       "<Figure size 432x288 with 1 Axes>"
      ]
     },
     "metadata": {
      "needs_background": "light"
     },
     "output_type": "display_data"
    }
   ],
   "source": [
    "from sklearn.neighbors import KNeighborsClassifier\n",
    "import matplotlib.cm as cm\n",
    "from matplotlib.colors import ListedColormap, BoundaryNorm\n",
    "import matplotlib.patches as mpatches\n",
    "\n",
    "\n",
    "X = second_encoded_sf_police_df[features_names]\n",
    "y = second_encoded_sf_police_df['incident_category']\n",
    "X_train, X_test, y_train, y_test = train_test_split(X, y, random_state=0)\n",
    "\n",
    "def plot_crime_knn(X, y, n_neighbors, weights):\n",
    "    X_mat = X[['longitude','latitude']].as_matrix()\n",
    "    y_mat = y.as_matrix()\n",
    "    \n",
    "    # Create color maps\n",
    "    cmap_light = ListedColormap(['#FFAAAA', '#AAFFAA', '#AAAAFF', '#AFAFAF'])\n",
    "    cmap_bold = ListedColormap([\"#FF0000\", \"#00FF00\", '#0000FF', '#AFAFAF'])\n",
    "    \n",
    "    clf = KNeighborsClassifier(n_neighbors, weights=weights)\n",
    "    clf.fit(X_mat,y_mat)\n",
    "    \n",
    "    mesh_step_size = .01\n",
    "    plot_symbol_size = 50\n",
    "    \n",
    "    x_min, x_max = X_mat[:, 0].min() - 1, X_mat[:, 0].max() + 1\n",
    "    y_min, y_max = X_mat[:, 1].min() - 1, X_mat[:, 1].max() + 1\n",
    "    xx, yy = np.meshgrid(np.arange(x_min, x_max, mesh_step_size),\n",
    "                         np.arange(y_min, y_max, mesh_step_size))\n",
    "    Z = clf.predict(np.c_[xx.ravel(), yy.ravel()])\n",
    "    # Put the result into a color plot\n",
    "    Z = Z.reshape(xx.shape)\n",
    "    plt.figure()\n",
    "    plt.pcolormesh(xx, yy, Z, cmap=cmap_light)\n",
    "    # Plot training points\n",
    "    plt.scatter(X_mat[:, 0], X_mat[:, 1], s=plot_symbol_size, c=y, cmap=cmap_bold, edgecolor = 'black')\n",
    "    plt.xlim(xx.min(), xx.max())\n",
    "    plt.ylim(yy.min(), yy.max())\n",
    "    patch0 = mpatches.Patch(color='#FF0000', label='assault')\n",
    "    patch1 = mpatches.Patch(color='#00FF00', label='theft')\n",
    "    patch2 = mpatches.Patch(color='#0000FF', label='vandalism')\n",
    "    patch3 = mpatches.Patch(color='#AFAFAF', label='vehicle-related-crime')\n",
    "    plt.legend(handles=[patch0, patch1, patch2, patch3])\n",
    "    plt.xlabel('longitude')\n",
    "    plt.ylabel('latitude')\n",
    "    plt.title(\"4-Class classification (k = %i, weights = '%s')\"\n",
    "              % (n_neighbors, weights))\n",
    "    plt.show()\n",
    "    \n",
    "\n",
    "plot_crime_knn(X_train,y_train, 20, 'uniform')"
   ]
  },
  {
   "cell_type": "code",
   "execution_count": 28,
   "metadata": {},
   "outputs": [
    {
     "name": "stdout",
     "output_type": "stream",
     "text": [
      "Getting score...\n",
      "Getting score...\n"
     ]
    },
    {
     "data": {
      "text/plain": [
       "([<matplotlib.axis.XTick at 0x26d0e4788c8>,\n",
       "  <matplotlib.axis.XTick at 0x26c94156d48>,\n",
       "  <matplotlib.axis.XTick at 0x26c91238e08>,\n",
       "  <matplotlib.axis.XTick at 0x26d0e48e408>,\n",
       "  <matplotlib.axis.XTick at 0x26d0e48ea88>,\n",
       "  <matplotlib.axis.XTick at 0x26d129b03c8>,\n",
       "  <matplotlib.axis.XTick at 0x26d129b0608>,\n",
       "  <matplotlib.axis.XTick at 0x26d129b5248>,\n",
       "  <matplotlib.axis.XTick at 0x26d129b58c8>,\n",
       "  <matplotlib.axis.XTick at 0x26d129b92c8>,\n",
       "  <matplotlib.axis.XTick at 0x26d129b9c48>],\n",
       " <a list of 11 Text xticklabel objects>)"
      ]
     },
     "execution_count": 28,
     "metadata": {},
     "output_type": "execute_result"
    },
    {
     "data": {
      "image/png": "[encoded data removed]",
      "text/plain": [
       "<Figure size 432x288 with 1 Axes>"
      ]
     },
     "metadata": {
      "needs_background": "light"
     },
     "output_type": "display_data"
    }
   ],
   "source": [
    "k_range = (1,50)\n",
    "scores = []\n",
    "for k in k_range:\n",
    "    knn = KNeighborsClassifier(n_neighbors=k)\n",
    "    knn.fit(X_train_scaled, y_train)\n",
    "    print(\"Getting score...\")\n",
    "    scores.append(knn.score(X_test_scaled, y_test))\n",
    "plt.figure()\n",
    "plt.xlabel('k')\n",
    "plt.ylabel('accuracy')\n",
    "plt.scatter(k_range, scores)\n",
    "plt.xticks([0,5,10,15,20,25,30,35,40,45,50])"
   ]
  },
  {
   "cell_type": "code",
   "execution_count": 29,
   "metadata": {},
   "outputs": [
    {
     "name": "stdout",
     "output_type": "stream",
     "text": [
      "0.3608650507519554\n",
      "0.3599497822672571\n"
     ]
    }
   ],
   "source": [
    "# LDA (Linear Discriminant Analysis)\n",
    "from sklearn.discriminant_analysis import LinearDiscriminantAnalysis\n",
    "lda = LinearDiscriminantAnalysis()\n",
    "lda.fit(X_train_scaled, y_train)\n",
    "print(lda.score(X_train_scaled, y_train))\n",
    "print(lda.score(X_test_scaled, y_test))"
   ]
  },
  {
   "cell_type": "code",
   "execution_count": 30,
   "metadata": {},
   "outputs": [
    {
     "name": "stdout",
     "output_type": "stream",
     "text": [
      "0.3549747772324469\n",
      "0.3529266537445304\n"
     ]
    }
   ],
   "source": [
    "#Gaussian Naive Bayes\n",
    "from sklearn.naive_bayes import GaussianNB\n",
    "\n",
    "gnb = GaussianNB()\n",
    "gnb.fit(X_train_scaled, y_train)\n",
    "print(gnb.score(X_train_scaled, y_train))\n",
    "print(gnb.score(X_test_scaled, y_test))\n",
    "\n"
   ]
  },
  {
   "cell_type": "code",
   "execution_count": null,
   "metadata": {},
   "outputs": [],
   "source": [
    "# Support Vector Machine \n",
    "# from sklearn.svm import SVC\n",
    "\n",
    "# svm = SVC()\n",
    "# svm.fit(X_train_scaled, y_train)\n",
    "# print(svm.score(X_train_scaled,y_train))\n",
    "# print(svm.score(X_test_scaled,y_test))\n"
   ]
  },
  {
   "cell_type": "code",
   "execution_count": null,
   "metadata": {},
   "outputs": [],
   "source": []
  },
  {
   "cell_type": "code",
   "execution_count": null,
   "metadata": {},
   "outputs": [],
   "source": []
  }
 ],
 "metadata": {
  "kernelspec": {
   "display_name": "Python 3",
   "language": "python",
   "name": "python3"
  },
  "language_info": {
   "codemirror_mode": {
    "name": "ipython",
    "version": 3
   },
   "file_extension": ".py",
   "mimetype": "text/x-python",
   "name": "python",
   "nbconvert_exporter": "python",
   "pygments_lexer": "ipython3",
   "version": "3.7.4"
  }
 },
 "nbformat": 4,
 "nbformat_minor": 2
}
